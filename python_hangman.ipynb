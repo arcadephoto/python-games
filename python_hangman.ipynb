{
 "cells": [
  {
   "cell_type": "code",
   "execution_count": null,
   "id": "stone-disposition",
   "metadata": {},
   "outputs": [
    {
     "name": "stdout",
     "output_type": "stream",
     "text": [
      "_ _ _ _ _ _ _ _ _ _ _\n",
      "Guess a letter...\n",
      "d\n",
      "Yes! The letter is there 1 times.\n",
      "Please continue. You have 6 guesses remaining.\n",
      "                              * ------ O The fuse is burning...\n",
      "_ _ d _ _ _ _ _ _ _ _\n",
      "               Your guesses: d\n"
     ]
    }
   ],
   "source": [
    "\n",
    "\n",
    "import random\n",
    "\n",
    "word_file = \"./web2\"\n",
    "words1 = open(word_file).read().splitlines()\n",
    "words2 = random.choice(words1)\n",
    "\n",
    "word = words2\n",
    "count = 0 #max guesses 7\n",
    "word_length = len(word)\n",
    "gameboard = [\"_\"] * len(word)\n",
    "correct = 0\n",
    "n = 0\n",
    "guess_no = 0\n",
    "guess_list =[]\n",
    "print(*gameboard, sep=\" \")\n",
    "while count < 6:\n",
    "    guess = input(\"Guess a letter...\\n\")\n",
    "    if guess not in guess_list:\n",
    "        guess_no = guess_no + 1\n",
    "        guess_list.append(guess)\n",
    "        for index, letter in enumerate(word):\n",
    "            if letter == guess:\n",
    "                n=n+1\n",
    "                correct = correct+1\n",
    "                gameboard[index] = letter\n",
    "        if correct == word_length:\n",
    "            print(*gameboard, sep=\" \")\n",
    "            print(\"Congrats! The word was '\", word, \"'. You got it in\", guess_no, \"guesses!\")\n",
    "            break;\n",
    "        if guess in word:\n",
    "            print(\"Yes! The letter is there\", n, \"times.\")\n",
    "            n=0\n",
    "        else:\n",
    "            print(\"Sorry, your letter was not found.\")\n",
    "            count = count+1\n",
    "        if count == 6:\n",
    "            print(\"You are out of guesses. And out of time.\")\n",
    "            print(\"                ***KABOOM***\")\n",
    "            print(\"The word was\", word, \".\")\n",
    "            break\n",
    "        else:\n",
    "            print(\"Please continue. You have\", (6-count), \"guesses remaining.\")\n",
    "            print(\"                              *\", (\"-\"*(6-count)), \"O\", \"The fuse is burning...\")\n",
    "    else:\n",
    "        print(\"You already guessed that.\")\n",
    "    print(*gameboard, sep=\" \")\n",
    "    print(\"               Your guesses:\", *guess_list, sep=\" \")\n",
    "    \n",
    " \n",
    "        \n",
    "            \n"
   ]
  },
  {
   "cell_type": "code",
   "execution_count": null,
   "id": "usual-disability",
   "metadata": {},
   "outputs": [],
   "source": []
  },
  {
   "cell_type": "code",
   "execution_count": null,
   "id": "central-customer",
   "metadata": {},
   "outputs": [],
   "source": []
  },
  {
   "cell_type": "code",
   "execution_count": null,
   "id": "unlike-catholic",
   "metadata": {},
   "outputs": [],
   "source": []
  },
  {
   "cell_type": "code",
   "execution_count": null,
   "id": "subject-distance",
   "metadata": {},
   "outputs": [],
   "source": []
  }
 ],
 "metadata": {
  "kernelspec": {
   "display_name": "Python 3",
   "language": "python",
   "name": "python3"
  },
  "language_info": {
   "codemirror_mode": {
    "name": "ipython",
    "version": 3
   },
   "file_extension": ".py",
   "mimetype": "text/x-python",
   "name": "python",
   "nbconvert_exporter": "python",
   "pygments_lexer": "ipython3",
   "version": "3.9.1"
  }
 },
 "nbformat": 4,
 "nbformat_minor": 5
}
