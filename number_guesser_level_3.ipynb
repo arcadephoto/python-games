{
 "cells": [
  {
   "cell_type": "code",
   "execution_count": 5,
   "id": "soviet-berkeley",
   "metadata": {},
   "outputs": [
    {
     "name": "stdout",
     "output_type": "stream",
     "text": [
      "Please choose a number from 1 to 10\n",
      "5\n",
      "I, the computer, shall guess your number!\n",
      "7\n",
      "Too high. Reconfiguring.\n",
      "4\n",
      "Too low. Reconfiguring.\n",
      "7\n",
      "Too high. Reconfiguring.\n",
      "The game has concluded\n"
     ]
    }
   ],
   "source": [
    "import random\n",
    "attempt = 0\n",
    "print(\"Please choose a number from 1 to 10\")\n",
    "r = int(input(), 10)\n",
    "print(\"I, the computer, shall guess your number!\")\n",
    "guess = random.randint(1, 10)\n",
    "for i in range(0, 3):\n",
    "    print(guess)\n",
    "    attempt = attempt +1\n",
    "    if attempt > 3:\n",
    "        print(\"Out of turns\")\n",
    "        break\n",
    "    if guess == r:\n",
    "        print(\"Nailed it!\")\n",
    "        break\n",
    "    elif guess < r:\n",
    "        print(\"Too low. Reconfiguring.\")\n",
    "        guess = random.randint(r, 10)\n",
    "    elif guess > r:\n",
    "        print(\"Too high. Reconfiguring.\")\n",
    "        guess = random.randint(1, r)\n",
    "print(\"The game has concluded\")"
   ]
  },
  {
   "cell_type": "code",
   "execution_count": null,
   "id": "separated-louis",
   "metadata": {},
   "outputs": [],
   "source": []
  }
 ],
 "metadata": {
  "kernelspec": {
   "display_name": "Python 3",
   "language": "python",
   "name": "python3"
  },
  "language_info": {
   "codemirror_mode": {
    "name": "ipython",
    "version": 3
   },
   "file_extension": ".py",
   "mimetype": "text/x-python",
   "name": "python",
   "nbconvert_exporter": "python",
   "pygments_lexer": "ipython3",
   "version": "3.9.1"
  }
 },
 "nbformat": 4,
 "nbformat_minor": 5
}
