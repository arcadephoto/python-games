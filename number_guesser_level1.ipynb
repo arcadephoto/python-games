{
 "cells": [
  {
   "cell_type": "code",
   "execution_count": 58,
   "id": "virtual-strategy",
   "metadata": {},
   "outputs": [
    {
     "name": "stdout",
     "output_type": "stream",
     "text": [
      "6\n",
      "5\n",
      "Too low!\n",
      "7\n",
      "Too high!\n",
      "6\n",
      "You nailed it!\n",
      "The game has concluded\n"
     ]
    }
   ],
   "source": [
    "import random\n",
    "attempt = 0\n",
    "rando = random.randint(1, 10)\n",
    "print(rando)\n",
    "for i in range(1, 4):\n",
    "    guess = int(input(), 10)\n",
    "    attempt = attempt +1\n",
    "    if attempt > 3:\n",
    "        print(\"Out of turns\")\n",
    "        break\n",
    "    if guess < rando:\n",
    "        print(\"Too low!\")\n",
    "    elif guess > rando:\n",
    "        print(\"Too high!\")\n",
    "    elif guess == rando:\n",
    "        print(\"You nailed it!\")\n",
    "        break\n",
    "print(\"The game has concluded\")"
   ]
  }
 ],
 "metadata": {
  "kernelspec": {
   "display_name": "Python 3",
   "language": "python",
   "name": "python3"
  },
  "language_info": {
   "codemirror_mode": {
    "name": "ipython",
    "version": 3
   },
   "file_extension": ".py",
   "mimetype": "text/x-python",
   "name": "python",
   "nbconvert_exporter": "python",
   "pygments_lexer": "ipython3",
   "version": "3.9.1"
  }
 },
 "nbformat": 4,
 "nbformat_minor": 5
}
